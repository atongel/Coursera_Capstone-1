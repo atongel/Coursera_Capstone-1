{
 "cells": [
  {
   "cell_type": "markdown",
   "metadata": {},
   "source": [
    "# Applied Data Science Capstone"
   ]
  },
  {
   "source": [
    "## Data\n",
    "### - Data Source\n",
    "It is now time to understand the data and then prepare it to be fed into the modeling tools. The given dataset used in this project (provided by the coursera example data ) can be downloaded here: https://s3.us.cloud-object-storage.appdomain.cloud/cf-courses-data/CognitiveClass/DP0701EN/version-2/Data-Collisions.csv \n",
    "\n",
    "The example dataset (Data-Collisions.csv) contains 194673 and 38 columns including the labeled\n",
    "data. The labeled data is the \"Severity Code\", which describes the fatality of an accident. In the shared dataset, the severity code column consists of two values: 1 for property damage and 2\n",
    "for injury. The dataset includes different attributes, describing a variety of conditions: \n",
    "location, weather, light, road, collision types, and so forth that may influence the severity of the accidents. The attributes are of the types of int64, float64, or object."
   ],
   "cell_type": "markdown",
   "metadata": {}
  },
  {
   "source": [
    "### - Data Balancing\n",
    "\n",
    "In the given dataset, the targeted variable (Severity Code) has more observations in one specific\n",
    "class (1, corresponding to approx. 70% of the collision severity accompanied by property\n",
    "damage ) than the other (2, corresponding to approx. 30% of the collision severity accompanied\n",
    "by injury). Figure 1 shows the initial imbalanced dataset in this work.\n",
    "\n",
    "Figure 1 - Data distribution (imbalanced)  \n",
    "\n",
    "<img  align=\"middle\" src=\"figure1_distribution-imbalanced.png\" /> \n",
    "\n",
    "\n",
    "This imbalanced dataset needs to become firstly balanced, otherwise, the models that will be\n",
    "developed later will be biased. Resampling is a widely adopted technique to address this issue.\n",
    "It consists of randomly removing observations from the majority class to prevent its signal from\n",
    "dominating the learning algorithm (under sampling) or randomly duplicating observations from\n",
    "the minority class to reinforce its signal (over sampling).\n",
    " \n",
    "By under sampling, a large amount of data, which can be later used for the prediction of severity\n",
    "will be lost. Accordingly, the oversampling technique is preferred and implemented in this work.\n",
    "Figure 2 shows the resulting balanced dataset, combining the majority class with over sampled\n",
    "minority class.\n",
    "\n",
    "Figure 2 - Data distribution (balanced) \n",
    "\n",
    "<img  align=\"middle\" src=\"figure2_distribution-balanced.png\" /> \n"
   ],
   "cell_type": "markdown",
   "metadata": {}
  },
  {
   "source": [
    "### - Data Cleaning\n",
    "\n",
    "There are several issues which are needed to be addressed during the data cleaning. One issue\n",
    "is many cells with missing values. The other issue with these missing values is that they are\n",
    "widely spread within 19 columns out of 38 columns in the dataset coming with a “NaN” mark.\n",
    "As this distribution ratio is considerably high, the replacement of the missing data with\n",
    "reasonable new values is a better option as far as possible.\n",
    "\n",
    "The other issue is the presence of both numerical and categorical data in the dataset. To this\n",
    "effect, the replacement is done by the frequency for the categorical variables and by mean for\n",
    "the numerical values. The missing categorical values that are replaced by the largest frequency\n",
    "belongs to the columns WEATHER, SPEEDING, LIGHTCOND, ROADCOND,JUNCTIONTYPE, INATTENTIONIND, COLLISIONTYPE, and ADDRTYPE. The missing numeric values in columns X and Y are replaced by the mean of the belonging columns, respectively.\n",
    "\n",
    "What should be also taken into account, specifically for processing the data in the next steps,is\n",
    "the incompatibility of categorical variables with the predictive model analysis tools. For example, to develop regression models and being able to use packages such as Sklearn, these variables are converted into indicator variables during the data cleaning after handling the missing data."
   ],
   "cell_type": "markdown",
   "metadata": {}
  },
  {
   "source": [
    "### - Feature Selection\n",
    "\n",
    "Taking a closer look into the dataset reveals that many of the columns contain inter-organizational codes which are not relevant to the case of this study and are deleted. These\n",
    "columns include OBJECTID, INCKEY, COLDETKEY, REPORTNO, INTKEY, EXCEPTRSNCODE, SDOT_COLCODE, SDOTCOLNUM, ST_COLCODE, ST_COLDESC, SEGLANEKEY, and CROSSWALKKEY. For example, the column SDOT_COLCODE refers to the codes given to the collision by SDOT or the columns INCKEY and COLDETKEY contain the ESRI unique identifier and so on.\n",
    "\n",
    "Some of the columns also consist of redundant or not enough useful information. For example,\n",
    "there is a second SEVERITYCODE.1 in addition to the SEVERITYCODE which will be deleted.\n",
    "The redundancy in data is also observed for columns such as EXCEPTRSNDESC with no\n",
    "description. The other example is the column UNDERINF which addresses the question:”\n",
    "Whether or not a driver involved was under the influence of drugs or alcohol?” There is however\n",
    "another column named INATTENTIONIND addressing the question: “Whether collision was due\n",
    "to inattention?”\n",
    "\n",
    "The level of attention in people is usually decreased upon consuming drugs or alcoholic drinks.\n",
    "Accordingly, UNDERINF is deleted and INATTENTIONIND is remained to count for the level of\n",
    "attention. The same analogy is considered for the column LOCATION, as both the X (longitude)\n",
    "and Y (latitudes) are given. Working with X and Y coordinates has also the advantage of a more\n",
    "precise description of the places where the accident occurred. For more clarity, X and Y are also\n",
    "renamed to LONGITUDE and LATITUDE. The same analogy is also considered for the columns\n",
    "STATUS, INCDATE, INCDTTM, SDOT_COLDESC, PEDROWNOTGRNT, ST_COLDESC, PEDCYLCOUNT, HITPARKEDCAR, SEVERITYDESC, ADDRTYPE, and PEDCOUNT. The 10 features selected at the end of this step are listed in Table 1.\n",
    "\n",
    "Table 1 - List of features being selected in the feature selection\n",
    "\n",
    "| ID | Feature | Description | \n",
    "| ---- | :----| :---- | \n",
    "|1 |LONGITUDE     |   longitude                                                                    |\n",
    "|2 |LATITUDE      |  latitude                                                                      |\n",
    "|3 |PERSONCOUNT   |  total number of people involved in the collision                              |\n",
    "|4 |VEHCOUNT      | the number of vehicles involved in the collision                               |\n",
    "|5 |JUNCTIONTYPE  |  category of junction at which collision took place                            |\n",
    "|6 |INATTENTIONIND|  whether or not collision was due to inattention                               |\n",
    "|7 |WEATHER       |  a description of the weather conditions durring the time of the collision     |\n",
    "|8 |ROADCOND      |  the condition of the road during the collision                                |\n",
    "|9 |LIGHTCOND     |  the light conditions during the collision.                                    |\n",
    "|10| SPEEDING     | whether or not speeding was a factor in the collision                          |"
   ],
   "cell_type": "markdown",
   "metadata": {}
  }
 ],
 "metadata": {
  "kernelspec": {
   "display_name": "Python 3",
   "language": "python",
   "name": "python3"
  },
  "language_info": {
   "codemirror_mode": {
    "name": "ipython",
    "version": 3
   },
   "file_extension": ".py",
   "mimetype": "text/x-python",
   "name": "python",
   "nbconvert_exporter": "python",
   "pygments_lexer": "ipython3",
   "version": "3.8.3-final"
  }
 },
 "nbformat": 4,
 "nbformat_minor": 4
}