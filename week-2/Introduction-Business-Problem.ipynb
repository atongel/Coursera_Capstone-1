{
 "cells": [
  {
   "cell_type": "markdown",
   "metadata": {},
   "source": [
    "# Applied Data Science Capstone"
   ]
  },
  {
   "source": [
    "## Introduction\n",
    "### - Background\n",
    "Road traffic injuries (RTIs) are a major public health problem. The annual global status reports on road safety, launched by the World Health Organization (WHO), highlights that the number of road traffic deaths has exceeded one million in recent years. That is over 3000 people dying on the world's roads every day. [1]\n",
    "\n",
    "To combat this major problem, the volume of research in the areas of accident analysis and prediction has been increasing over the past few decades. [2] The analytical data mining solutions can be largely employed to determine and predict related influential factors and thus\n",
    "to explain RTIs severity.\n",
    "\n",
    "Therefore, analyzing the various factors that could help predict accident severity can guide the government administration to implement changes in a timely manner that may reduce the number of fatalities & serious injuries.\n",
    "\n",
    "### - Objective\n",
    "The objective of this capstone project is to analyze the collision data set for Seattle, WA and determine the most possible factors including weather, road conditions, visibility, and various other factors that best predict accident severity by training and evaluating supervised machine learning algorithms. \n",
    "\n",
    "This project will be used to answer the business question: How can the city of Seattle, Washington best predict the severity of collisions that occur and what avenues can be\n",
    "explored to remedy this issue?\n",
    "\n",
    "### - Target Audience \n",
    "The report of this project can be targeted to stakeholders, who are involved with road traffic injuries, such as road administrators, traffic control authorities, and emergency road services in order to help them predict the car accident severities and improve the road users' safety margins."
   ],
   "cell_type": "markdown",
   "metadata": {}
  },
  {
   "source": [
    "## References \n",
    "[1].World Health Organization: http://www.who.int\n",
    "\n",
    "[2] Accident Risk Prediction based on eterogeneous Sparse Data: New Dataset and Insights, S. Moosaviet al., SIGSPATIAL ’19, November 5–8, 2019, Chicago, IL, USA"
   ],
   "cell_type": "markdown",
   "metadata": {}
  }
 ],
 "metadata": {
  "kernelspec": {
   "display_name": "Python 3",
   "language": "python",
   "name": "python3"
  },
  "language_info": {
   "codemirror_mode": {
    "name": "ipython",
    "version": 3
   },
   "file_extension": ".py",
   "mimetype": "text/x-python",
   "name": "python",
   "nbconvert_exporter": "python",
   "pygments_lexer": "ipython3",
   "version": "3.8.3-final"
  }
 },
 "nbformat": 4,
 "nbformat_minor": 4
}